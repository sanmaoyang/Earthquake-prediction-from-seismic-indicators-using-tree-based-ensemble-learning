{
 "cells": [
  {
   "cell_type": "code",
   "execution_count": 1,
   "metadata": {},
   "outputs": [],
   "source": [
    "from Earthquake_data_preprocessor import EarthquakeDataPreprocessor\n",
    "from Model_Tuner import ModelTuner\n",
    "import pandas as pd \n",
    "from xgboost import XGBClassifier\n",
    "# Load the data\n",
    "data = pd.read_csv(\"sc.csv\")\n",
    "\n",
    "# Create a preprocessor object\n",
    "preprocessor = EarthquakeDataPreprocessor(data)\n",
    "\n",
    "# Get the training, validation, and testing sets\n",
    "train_data, validation_data, test_data = preprocessor.get_datasets()"
   ]
  },
  {
   "cell_type": "code",
   "execution_count": 2,
   "metadata": {},
   "outputs": [
    {
     "data": {
      "text/html": [
       "<div>\n",
       "<style scoped>\n",
       "    .dataframe tbody tr th:only-of-type {\n",
       "        vertical-align: middle;\n",
       "    }\n",
       "\n",
       "    .dataframe tbody tr th {\n",
       "        vertical-align: top;\n",
       "    }\n",
       "\n",
       "    .dataframe thead th {\n",
       "        text-align: right;\n",
       "    }\n",
       "</style>\n",
       "<table border=\"1\" class=\"dataframe\">\n",
       "  <thead>\n",
       "    <tr style=\"text-align: right;\">\n",
       "      <th></th>\n",
       "      <th>F1</th>\n",
       "      <th>AUC</th>\n",
       "      <th>MCC</th>\n",
       "    </tr>\n",
       "  </thead>\n",
       "  <tbody>\n",
       "    <tr>\n",
       "      <th>0</th>\n",
       "      <td>0.32</td>\n",
       "      <td>0.344565</td>\n",
       "      <td>0.294097</td>\n",
       "    </tr>\n",
       "  </tbody>\n",
       "</table>\n",
       "</div>"
      ],
      "text/plain": [
       "     F1       AUC       MCC\n",
       "0  0.32  0.344565  0.294097"
      ]
     },
     "execution_count": 2,
     "metadata": {},
     "output_type": "execute_result"
    }
   ],
   "source": [
    "model = XGBClassifier()\n",
    "# Create a model tuner\n",
    "tuner = ModelTuner(model, train_data, validation_data, test_data)\n",
    "# Define the fixed parameters\n",
    "fixed_params = {\"n_estimators\": 50,\"verbosity\":0}\n",
    "# Define the model parameters\n",
    "param_grid = {\"learning_rate\": [0.1, 0.01, 0.001], \"max_depth\": [3, 5, 10]}\n",
    "# Tune the model\n",
    "mcc_value = tuner.tune(fixed_params, param_grid)\n",
    "tuner.evaluate()"
   ]
  }
 ],
 "metadata": {
  "kernelspec": {
   "display_name": "yang1215",
   "language": "python",
   "name": "python3"
  },
  "language_info": {
   "codemirror_mode": {
    "name": "ipython",
    "version": 3
   },
   "file_extension": ".py",
   "mimetype": "text/x-python",
   "name": "python",
   "nbconvert_exporter": "python",
   "pygments_lexer": "ipython3",
   "version": "3.8.16"
  }
 },
 "nbformat": 4,
 "nbformat_minor": 2
}
