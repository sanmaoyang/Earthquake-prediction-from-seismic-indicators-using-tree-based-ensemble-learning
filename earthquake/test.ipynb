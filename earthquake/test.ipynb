{
 "cells": [
  {
   "cell_type": "code",
   "execution_count": 2,
   "metadata": {},
   "outputs": [
    {
     "data": {
      "text/html": [
       "<div>\n",
       "<style scoped>\n",
       "    .dataframe tbody tr th:only-of-type {\n",
       "        vertical-align: middle;\n",
       "    }\n",
       "\n",
       "    .dataframe tbody tr th {\n",
       "        vertical-align: top;\n",
       "    }\n",
       "\n",
       "    .dataframe thead th {\n",
       "        text-align: right;\n",
       "    }\n",
       "</style>\n",
       "<table border=\"1\" class=\"dataframe\">\n",
       "  <thead>\n",
       "    <tr style=\"text-align: right;\">\n",
       "      <th></th>\n",
       "      <th>F1</th>\n",
       "      <th>AUC</th>\n",
       "      <th>MCC</th>\n",
       "    </tr>\n",
       "  </thead>\n",
       "  <tbody>\n",
       "    <tr>\n",
       "      <th>0</th>\n",
       "      <td>0.336538</td>\n",
       "      <td>0.295852</td>\n",
       "      <td>0.333506</td>\n",
       "    </tr>\n",
       "  </tbody>\n",
       "</table>\n",
       "</div>"
      ],
      "text/plain": [
       "         F1       AUC       MCC\n",
       "0  0.336538  0.295852  0.333506"
      ]
     },
     "execution_count": 2,
     "metadata": {},
     "output_type": "execute_result"
    }
   ],
   "source": [
    "from Earthquake_data_preprocessor import EarthquakeDataPreprocessor\n",
    "from Model_Tuner import ModelTuner\n",
    "import pandas as pd \n",
    "from xgboost import XGBClassifier\n",
    "from sklearn.metrics import matthews_corrcoef ,make_scorer,auc,roc_auc_score,accuracy_score\n",
    "# Load the data\n",
    "data = pd.read_csv(r\"C:\\Users\\12105\\Desktop\\hz\\HZ with gap\\raw_data\\SC.csv\")\n",
    "\n",
    "# Create a preprocessor object\n",
    "preprocessor = EarthquakeDataPreprocessor(data,remove_nan=False, remove_duplicates=False, binarize_magnitude=True, threshold=5, test_size=0.3, validation_size=0.3, n=50, normalize_data=False)\n",
    "\n",
    "# Get the training, validation, and testing sets\n",
    "train_data, validation_data, test_data = preprocessor.get_datasets()\n",
    "\n",
    "##\n",
    "score1 = make_scorer(roc_auc_score, needs_proba=True)\n",
    "\n",
    "model = XGBClassifier()\n",
    "# Create a model tuner\n",
    "tuner = ModelTuner(model, train_data, validation_data, test_data,scorefunction = score1)\n",
    "# Define the fixed parameters\n",
    "fixed_params = {\"verbosity\":0,\"n_jobs\":-1}\n",
    "# Define the model parameters you want to optimase\n",
    "param_grid = {\"learning_rate\": [0.1, 0.01, 0.001], \"max_depth\": [3, 5, 10],\"n_estimators\":[50,55]}\n",
    "# Tune the model\n",
    "best_parameters , best_model = tuner.tune(fixed_params, param_grid)\n",
    "#Provide an evaluation of the best model’s performance on the test data.\n",
    "tuner.evaluate()"
   ]
  }
 ],
 "metadata": {
  "kernelspec": {
   "display_name": "yang1215",
   "language": "python",
   "name": "python3"
  },
  "language_info": {
   "codemirror_mode": {
    "name": "ipython",
    "version": 3
   },
   "file_extension": ".py",
   "mimetype": "text/x-python",
   "name": "python",
   "nbconvert_exporter": "python",
   "pygments_lexer": "ipython3",
   "version": "3.8.16"
  }
 },
 "nbformat": 4,
 "nbformat_minor": 2
}
